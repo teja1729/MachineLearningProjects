{
 "cells": [
  {
   "cell_type": "code",
   "execution_count": 1,
   "id": "0afaf0ca",
   "metadata": {},
   "outputs": [],
   "source": [
    "board = [[-1,-1,-1],\n",
    "         [0,0,0],\n",
    "         [1,1,1]]"
   ]
  },
  {
   "cell_type": "code",
   "execution_count": 2,
   "id": "616f83ea",
   "metadata": {},
   "outputs": [],
   "source": [
    "#displaying board\n",
    "def display_board(board):\n",
    "    b = [\" \",\"H\",\"A\"]\n",
    "    \n",
    "    print('   |   |')\n",
    "    print(' ' + b[board[0][0]] + ' | ' + b[board[0][1]] + ' | ' + b[board[0][2]])\n",
    "    print('   |   |')\n",
    "    print('-----------')\n",
    "    print('   |   |')\n",
    "    print(' ' + b[board[1][0]] + ' | ' + b[board[1][1]] + ' | ' + b[board[1][2]])\n",
    "    print('   |   |')\n",
    "    print('-----------')\n",
    "    print('   |   |')\n",
    "    print(' ' + b[board[2][0]] + ' | ' + b[board[2][1]] + ' | ' + b[board[2][2]])\n",
    "    print('   |   |')"
   ]
  },
  {
   "cell_type": "code",
   "execution_count": 3,
   "id": "5a9b8d9a",
   "metadata": {},
   "outputs": [
    {
     "name": "stdout",
     "output_type": "stream",
     "text": [
      "   |   |\n",
      " A | A | A\n",
      "   |   |\n",
      "-----------\n",
      "   |   |\n",
      "   |   |  \n",
      "   |   |\n",
      "-----------\n",
      "   |   |\n",
      " H | H | H\n",
      "   |   |\n"
     ]
    }
   ],
   "source": [
    "display_board(board)"
   ]
  },
  {
   "cell_type": "code",
   "execution_count": 4,
   "id": "22eecb0a",
   "metadata": {},
   "outputs": [],
   "source": [
    "#positions of H,A\n",
    "def positions_of_pieces(board):\n",
    "    position_of_H = []\n",
    "    position_of_A = []\n",
    "    for i in range(3):\n",
    "        for j in range(3):\n",
    "            if board[i][j]==1:\n",
    "                position_of_H.append([i,j])\n",
    "            if board[i][j]==-1:\n",
    "                position_of_A.append([i,j])\n",
    "    return position_of_H,position_of_A"
   ]
  },
  {
   "cell_type": "code",
   "execution_count": 5,
   "id": "17ea18bd",
   "metadata": {},
   "outputs": [
    {
     "name": "stdout",
     "output_type": "stream",
     "text": [
      "[[2, 0], [2, 1], [2, 2]]\n",
      "[[0, 0], [0, 1], [0, 2]]\n"
     ]
    }
   ],
   "source": [
    "x,y = positions_of_pieces(board)\n",
    "print(x)\n",
    "print(y)"
   ]
  },
  {
   "cell_type": "code",
   "execution_count": 6,
   "id": "12ed41de",
   "metadata": {},
   "outputs": [],
   "source": [
    "#Check winning \n",
    "def check_winning(board,position_of_H,position_of_A):\n",
    "    if 1  in board[0]:\n",
    "        return 1\n",
    "    if -1 in board[2]:\n",
    "        return 1 \n",
    "    x = 0\n",
    "    for i in position_of_H:\n",
    "        i[0]-=1\n",
    "        if board[i[0]][i[1]]== -1:\n",
    "            x+=1\n",
    "    if len(position_of_H)==x:\n",
    "        return 1\n",
    "    for i in position_of_A:\n",
    "        i[0]+=1\n",
    "        if board[i[0]][i[1]]== 1:\n",
    "            x+=1\n",
    "    if len(position_of_H)==x:\n",
    "        return \n",
    "    x = 0\n",
    "    for i in board:\n",
    "        if 1 not in i:\n",
    "            x+=1\n",
    "    if x == 3:\n",
    "        return 1\n",
    "    x = 0\n",
    "    for i  in board:\n",
    "        if -1 not in i:\n",
    "            x+=1\n",
    "    if x ==3:\n",
    "        return 1\n",
    "            \n",
    "    return 0"
   ]
  },
  {
   "cell_type": "code",
   "execution_count": 7,
   "id": "944e808f",
   "metadata": {},
   "outputs": [
    {
     "data": {
      "text/plain": [
       "0"
      ]
     },
     "execution_count": 7,
     "metadata": {},
     "output_type": "execute_result"
    }
   ],
   "source": [
    "check_winning(board,x,y)"
   ]
  },
  {
   "cell_type": "code",
   "execution_count": 8,
   "id": "71a83c74",
   "metadata": {},
   "outputs": [
    {
     "name": "stdout",
     "output_type": "stream",
     "text": [
      "   |   |\n",
      " A | A | A\n",
      "   |   |\n",
      "-----------\n",
      "   |   |\n",
      "   | H |  \n",
      "   |   |\n",
      "-----------\n",
      "   |   |\n",
      " H |   | H\n",
      "   |   |\n"
     ]
    },
    {
     "data": {
      "text/plain": [
       "0"
      ]
     },
     "execution_count": 8,
     "metadata": {},
     "output_type": "execute_result"
    }
   ],
   "source": [
    "board = [[-1,-1,-1],\n",
    "         [0,1,0],\n",
    "         [1,0,1]]\n",
    "x,y = positions_of_pieces(board)\n",
    "display_board(board)\n",
    "check_winning(board,x,y)"
   ]
  },
  {
   "cell_type": "code",
   "execution_count": null,
   "id": "ffeeda4a",
   "metadata": {},
   "outputs": [],
   "source": [
    "#possible moves for HUMAN:\n",
    "def possible_moves_H(board):\n",
    "    x,y = positions_of_pieces(board)\n",
    "    j = [0,0]\n",
    "    for i in x :\n",
    "        j[0],j[1]=i[0]-1,i[1]\n",
    "        if board[j[0]][j[1]]==0:\n",
    "            print(f\"There is move from {(i[0],i[1]) -- > (j[0],j[1])}\")\n",
    "    for i in x:\n",
    "        if i[0]\n",
    "    "
   ]
  }
 ],
 "metadata": {
  "kernelspec": {
   "display_name": "Python 3",
   "language": "python",
   "name": "python3"
  },
  "language_info": {
   "codemirror_mode": {
    "name": "ipython",
    "version": 3
   },
   "file_extension": ".py",
   "mimetype": "text/x-python",
   "name": "python",
   "nbconvert_exporter": "python",
   "pygments_lexer": "ipython3",
   "version": "3.8.8"
  }
 },
 "nbformat": 4,
 "nbformat_minor": 5
}
