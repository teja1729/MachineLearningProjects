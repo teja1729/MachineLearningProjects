{
 "cells": [
  {
   "cell_type": "code",
   "execution_count": 1,
   "id": "5c3e1482",
   "metadata": {},
   "outputs": [],
   "source": [
    "board = [-1, - 1,-1,\n",
    "          0,   0, 0,\n",
    "          1,   1, 1]\n",
    "from random import choice\n",
    "import matplotlib.pyplot as plt"
   ]
  },
  {
   "cell_type": "code",
   "execution_count": 51,
   "id": "795f0aee",
   "metadata": {},
   "outputs": [],
   "source": [
    "from IPython.display import clear_output\n",
    "#displaying board\n",
    "def display_board(board):\n",
    "     #clear_output()\n",
    "    b = []\n",
    "    for i in board:\n",
    "        if i == - 1:\n",
    "            b.append(\"A\")\n",
    "        if i ==1:\n",
    "            b.append(\"H\")\n",
    "        if i == 0:\n",
    "            b.append(\" \")\n",
    "    print('   |   |')\n",
    "    print('  0| 1 |2')\n",
    "    print(' ' + b[0] + ' | ' + b[1] + ' | ' + b[2])\n",
    "    print('   |   |')\n",
    "    print('-----------')\n",
    "    print('   |   |')\n",
    "    print('  3| 4 |5')\n",
    "    print(' ' + b[3] + ' | ' + b[4] + ' | ' + b[5])\n",
    "    print('   |   |')\n",
    "    print('-----------')\n",
    "    print('   |   |')\n",
    "    print('  6| 7 |8')\n",
    "    print(' ' + b[6] + ' | ' + b[7] + ' | ' + b[8])\n",
    "    print('   |   |')\n",
    "    print('***********')"
   ]
  },
  {
   "cell_type": "code",
   "execution_count": 52,
   "id": "c00d5427",
   "metadata": {},
   "outputs": [
    {
     "name": "stdout",
     "output_type": "stream",
     "text": [
      "   |   |\n",
      "  0| 1 |2\n",
      " A | A | A\n",
      "   |   |\n",
      "-----------\n",
      "   |   |\n",
      "  3| 4 |5\n",
      "   |   |  \n",
      "   |   |\n",
      "-----------\n",
      "   |   |\n",
      "  6| 7 |8\n",
      " H | H | H\n",
      "   |   |\n",
      "***********\n"
     ]
    }
   ],
   "source": [
    "display_board([-1,-1,-1,\n",
    "              0,0,0,\n",
    "              1,1,1])"
   ]
  },
  {
   "cell_type": "code",
   "execution_count": 4,
   "id": "2878c59f",
   "metadata": {},
   "outputs": [],
   "source": [
    "#positions of H,A\n",
    "def positions(board):\n",
    "    position_of_H = [i for i in range(9) if board[i]==1]\n",
    "    position_of_A = [i for i in range(9) if board[i]==-1]\n",
    "    return  position_of_H,position_of_A"
   ]
  },
  {
   "cell_type": "code",
   "execution_count": 5,
   "id": "9dc38c29",
   "metadata": {},
   "outputs": [],
   "source": [
    "#available moves for Human\n",
    "def available_moves_H(board):\n",
    "    available_moves = []\n",
    "    x,_ = positions(board)\n",
    "    if 8 in x:\n",
    "        if board[5] == 0:\n",
    "            available_moves.append(\"8->5\")\n",
    "        if board[4] == -1:\n",
    "            available_moves.append(\"8->4\")\n",
    "    if 7 in x:\n",
    "        if board[4]==0 :\n",
    "            available_moves.append(\"7->4\")\n",
    "        if board[3]==-1:\n",
    "            available_moves.append(\"7->3\")\n",
    "        if board[5]== -1:\n",
    "            available_moves.append(\"7->5\")\n",
    "    if 6 in x:\n",
    "        if board[3] == 0 :\n",
    "            available_moves.append(\"6->3\")\n",
    "        if board[4] == -1:\n",
    "            available_moves.append(\"6->4\")\n",
    "    if 5 in x:\n",
    "        if board[2] == 0:\n",
    "            available_moves.append(\"5->2\")\n",
    "        if board[1] == -1:\n",
    "            available_moves.append(\"5->1\")\n",
    "    if 4 in x:\n",
    "        if board[1]==0 :\n",
    "            available_moves.append(\"4->1\")\n",
    "        if board[0]==-1:\n",
    "            available_moves.append(\"4->0\")\n",
    "        if board[2]== -1:\n",
    "            available_moves.append(\"4->2\")\n",
    "    if 3 in x:\n",
    "        if board[0] == 0 :\n",
    "            available_moves.append(\"3->0\")\n",
    "        if board[1] == -1:\n",
    "            available_moves.append(\"3->1\")\n",
    "    return available_moves"
   ]
  },
  {
   "cell_type": "code",
   "execution_count": 6,
   "id": "5d60a681",
   "metadata": {},
   "outputs": [],
   "source": [
    "#available_moves_by_AI\n",
    "def available_moves_A(board):\n",
    "    available_moves = []\n",
    "    _,x = positions(board)\n",
    "    if 0 in x:\n",
    "        if board[3] == 0:\n",
    "            available_moves.append(\"0->3\")\n",
    "        if board[4] == 1:\n",
    "            available_moves.append(\"0->4\")\n",
    "    if 1 in x:\n",
    "        if board[4]==0 :\n",
    "            available_moves.append(\"1->4\")\n",
    "        if board[3]==1:\n",
    "            available_moves.append(\"1->3\")\n",
    "        if board[5]== 1:\n",
    "            available_moves.append(\"1->5\")\n",
    "    if 2 in x:\n",
    "        if board[5] == 0 :\n",
    "            available_moves.append(\"2->5\")\n",
    "        if board[4] == 1:\n",
    "            available_moves.append(\"2->4\")\n",
    "    if 3 in x:\n",
    "        if board[6] == 0:\n",
    "            available_moves.append(\"3->6\")\n",
    "        if board[7] == 1:\n",
    "            available_moves.append(\"3->7\")\n",
    "    if 4 in x:\n",
    "        if board[7]==0 :\n",
    "            available_moves.append(\"4->7\")\n",
    "        if board[6]==1:\n",
    "            available_moves.append(\"4->6\")\n",
    "        if board[8]== 1:\n",
    "            available_moves.append(\"4->8\")\n",
    "    if 5 in x:\n",
    "        if board[8] == 0 :\n",
    "            available_moves.append(\"5->8\")\n",
    "        if board[7] == 1:\n",
    "            available_moves.append(\"5->7\")\n",
    "    return available_moves"
   ]
  },
  {
   "cell_type": "code",
   "execution_count": 7,
   "id": "d2ccd3de",
   "metadata": {},
   "outputs": [],
   "source": [
    "#winning condition\n",
    "def check_win(board):\n",
    "    #if H reaches the other end\n",
    "    if 1 in [board[0],board[1],board[2]]:\n",
    "        return 1\n",
    "    #if A reaches the other end\n",
    "    if -1 in [board[6],board[7],board[8]]:\n",
    "        return 1\n",
    "    position_of_H,position_of_A = positions(board)\n",
    "      # if H got elemented completely\n",
    "    if len(position_of_H) == 0:\n",
    "        return 1\n",
    "    #if A got elemented completely\n",
    "    if len(position_of_A) == 0:\n",
    "        return 1\n",
    "    #if there are no moves for H\n",
    "    if len(available_moves_H(board)) ==0:\n",
    "        return 1\n",
    "    #if there are no moves for A\n",
    "    if len(available_moves_A(board)) ==0:\n",
    "        return 1\n",
    "    \n",
    "    return 0 "
   ]
  },
  {
   "cell_type": "code",
   "execution_count": 8,
   "id": "edb66d96",
   "metadata": {},
   "outputs": [],
   "source": [
    "#updating move by human\n",
    "def update_move_H(board,move):\n",
    "    board[int(move[0])] = 0 \n",
    "    board[int(move[-1])] = 1\n",
    "    return board\n",
    "def update_move_A(board,move):\n",
    "    board[int(move[0])] = 0\n",
    "    board[int(move[-1])] = -1\n",
    "    return board"
   ]
  },
  {
   "cell_type": "code",
   "execution_count": 9,
   "id": "c8176521",
   "metadata": {},
   "outputs": [],
   "source": [
    "memory_A_moves = []\n",
    "win_count = []\n",
    "for _ in range(500):\n",
    "    game = [-1,-1,-1,\n",
    "             0,0,0,\n",
    "             1,1,1]\n",
    "    while True:\n",
    "        c = available_moves_H(game)\n",
    "        a = choice(range(len(c)))\n",
    "        game = update_move_H(game.copy(),c[a])\n",
    "        if check_win(game)==1:\n",
    "            win_count.append(\"H\")\n",
    "            break\n",
    "        if game.copy() not in [t[0] for t in memory_A_moves]:\n",
    "            memory_A_moves.append([game.copy(),available_moves_A(game.copy())])\n",
    "        d = available_moves_A(game.copy())\n",
    "        e = choice(range(len(d)))\n",
    "        game = update_move_A(game.copy(),d[e])\n",
    "        if check_win(game)==1:\n",
    "            win_count.append(\"A\")\n",
    "            break"
   ]
  },
  {
   "cell_type": "code",
   "execution_count": 10,
   "id": "4b5464f0",
   "metadata": {},
   "outputs": [
    {
     "data": {
      "text/plain": [
       "35"
      ]
     },
     "execution_count": 10,
     "metadata": {},
     "output_type": "execute_result"
    }
   ],
   "source": [
    "len(memory_A_moves)"
   ]
  },
  {
   "cell_type": "code",
   "execution_count": 45,
   "id": "f17f6c17",
   "metadata": {},
   "outputs": [
    {
     "data": {
      "text/plain": [
       "(array([1488.,    0.,    0.,    0.,    0.,    0.,    0.,    0.,    0.,\n",
       "        3512.]),\n",
       " array([0. , 0.1, 0.2, 0.3, 0.4, 0.5, 0.6, 0.7, 0.8, 0.9, 1. ]),\n",
       " <BarContainer object of 10 artists>)"
      ]
     },
     "execution_count": 45,
     "metadata": {},
     "output_type": "execute_result"
    },
    {
     "data": {
      "image/png": "[encoded data removed]",
      "text/plain": [
       "<Figure size 432x288 with 1 Axes>"
      ]
     },
     "metadata": {
      "needs_background": "light"
     },
     "output_type": "display_data"
    }
   ],
   "source": [
    "win_count  = []\n",
    "memory_A_2 = []\n",
    "memory_A_4 = []\n",
    "memory_A_6 = []\n",
    "for _ in range(5000):\n",
    "    game = [-1,-1,-1,\n",
    "              0,0,0,\n",
    "              1,1,1]\n",
    "    #1st move by Human\n",
    "    a = available_moves_H(game.copy())\n",
    "    b = choice(range(len(a)))\n",
    "    game = update_move_H(game.copy(),a[b])\n",
    "    #2nd move by AI\n",
    "    if game.copy() not in [p[0] for p in memory_A_2]:\n",
    "        memory_A_2.append([game.copy(),available_moves_A(game.copy())])\n",
    "    d = available_moves_A(game.copy())\n",
    "    e = choice(range(len(d)))\n",
    "    game = update_move_A(game.copy(),d[e])\n",
    "    #3rd move by Human\n",
    "    f = available_moves_H(game.copy())\n",
    "    g = choice(range(len(f)))\n",
    "    game = update_move_H(game.copy(),f[g])\n",
    "    if check_win(game)==1:\n",
    "        win_count.append(\"H\")\n",
    "        continue\n",
    "    #4th move by AI\n",
    "    if game.copy() not in [p[0] for p in memory_A_4]:\n",
    "        memory_A_4.append([game.copy(),available_moves_A(game.copy())])\n",
    "    h = available_moves_A(game.copy())\n",
    "    i = choice(range(len(h)))\n",
    "    game = update_move_A(game.copy(),h[i])\n",
    "    if check_win(game)==1:\n",
    "        win_count.append(\"A\")\n",
    "        continue\n",
    "    #5th move by Human\n",
    "    j = available_moves_H(game.copy())\n",
    "    k = choice(range(len(j)))\n",
    "    game = update_move_H(game.copy(),j[k])\n",
    "    if check_win(game)==1:\n",
    "        win_count.append(\"H\")\n",
    "        continue\n",
    "    #6th move by AI\n",
    "    if game.copy() not in [p[0] for p in memory_A_6]:\n",
    "        memory_A_6.append([game.copy(),available_moves_A(game.copy())])\n",
    "    l = available_moves_A(game.copy())\n",
    "    m = choice(range(len(l)))\n",
    "    game = update_move_A(game.copy(),l[m])\n",
    "    if check_win(game)==1:\n",
    "        win_count.append(\"H\")\n",
    "        continue\n",
    "    #7th move by Human\n",
    "    n = available_moves_H(game.copy())\n",
    "    o = choice(range(len(n)))\n",
    "    game = update_move_H(game.copy(),n[o])\n",
    "    if check_win(game)==1:\n",
    "        win_count.append(\"H\")\n",
    "        continue\n",
    "win_count\n",
    "plt.hist(win_count)"
   ]
  },
  {
   "cell_type": "code",
   "execution_count": 46,
   "id": "875c67b8",
   "metadata": {},
   "outputs": [
    {
     "data": {
      "text/plain": [
       "35"
      ]
     },
     "execution_count": 46,
     "metadata": {},
     "output_type": "execute_result"
    }
   ],
   "source": [
    "len(memory_A_2)+len(memory_A_4)+len(memory_A_6)"
   ]
  },
  {
   "cell_type": "code",
   "execution_count": 37,
   "id": "29cb7436",
   "metadata": {},
   "outputs": [
    {
     "name": "stdout",
     "output_type": "stream",
     "text": [
      "   |   |\n",
      " A |   | A\n",
      "   |   |\n",
      "-----------\n",
      "   |   |\n",
      "   | H | A\n",
      "   |   |\n",
      "-----------\n",
      "   |   |\n",
      " H |   |  \n",
      "   |   |\n",
      "***********\n"
     ]
    },
    {
     "data": {
      "text/plain": [
       "[]"
      ]
     },
     "execution_count": 37,
     "metadata": {},
     "output_type": "execute_result"
    }
   ],
   "source": [
    "win_count  = []\n",
    "for _ in range(1):\n",
    "    game = [-1,-1,-1,\n",
    "              0,0,0,\n",
    "              1,1,1]\n",
    "    display_board(game)\n",
    "    #1st move by Human\n",
    "    a = available_moves_H(game.copy())\n",
    "    b = choice(range(len(a)))\n",
    "    game = update_move_H(game.copy(),a[b])\n",
    "    display_board(game)\n",
    "    #2nd move by AI\n",
    "    for t in memory_A_2:\n",
    "        if t[0]== game.copy():\n",
    "            d = t[1]\n",
    "            e = choice(range(len(d)))\n",
    "            break\n",
    "    move_2 = [game.copy(),d[e]]\n",
    "    game = update_move_A(game.copy(),d[e])\n",
    "    display_board(game)\n",
    "    #3rd move by Human\n",
    "    f = available_moves_H(game.copy())\n",
    "    g = choice(range(len(f)))\n",
    "    game = update_move_H(game.copy(),f[g])\n",
    "    display_board(game)\n",
    "    if check_win(game)==1:\n",
    "        win_count.append(\"H\")\n",
    "        for x in memory_A_2:\n",
    "            if x[0]==move_2[0]:\n",
    "                x[1].remove(move_2[1])   \n",
    "                break\n",
    "        continue\n",
    "    #4th move by AI\n",
    "    for t in memory_A_2:\n",
    "        if t[0]== game.copy() :\n",
    "            if len(t[1])!=0:\n",
    "                h = t[1]\n",
    "                i = choice(range(len(h)))\n",
    "                break\n",
    "            else:\n",
    "                for x in memory_A_2:\n",
    "                    if x[0]==move_2[0]:\n",
    "                        x[1].remove(move_2[1])   \n",
    "                        break\n",
    "                break\n",
    "    continue\n",
    "    move_4 = [game.copy(),h[i]]\n",
    "    game = update_move_A(game.copy(),h[i])\n",
    "    display_board(game)\n",
    "    if check_win(game)==1:\n",
    "        win_count.append(\"A\")\n",
    "        continue\n",
    "    #5th move by Human\n",
    "    j = available_moves_H(game.copy())\n",
    "    k = choice(range(len(j)))\n",
    "    game = update_move_H(game.copy(),j[k])\n",
    "    display_board(game)\n",
    "    if check_win(game)==1:\n",
    "        win_count.append(\"H\")\n",
    "        for y in memory_A_4:\n",
    "            if y[0]==move_4[0]:\n",
    "                y[1].remove(move_4[1])\n",
    "                break\n",
    "        continue\n",
    "    #6th move by AI\n",
    "    for t in memory_A_2:\n",
    "        if t[0]== game.copy():\n",
    "            l = t[1]\n",
    "            m = choice(range(len(l)))\n",
    "            break\n",
    "    move_6 = [game.copy(),l[m]]\n",
    "    game = update_move_A(game.copy(),l[m])\n",
    "    display_board(game)\n",
    "    if check_win(game)==1:\n",
    "        win_count.append(\"A\")\n",
    "        continue\n",
    "    #7th move by Human\n",
    "    n = available_moves_H(game.copy())\n",
    "    o = choice(range(len(n)))\n",
    "    game = update_move_H(game.copy(),n[o])\n",
    "    display_board(game)\n",
    "    if check_win(game)==1:\n",
    "        win_count.append(\"H\")\n",
    "        for z in memory_A_6:\n",
    "            if z[0]==move_6[0]:\n",
    "                z[1].remove(move_6[1])\n",
    "                break\n",
    "        continue\n",
    "win_count"
   ]
  },
  {
   "cell_type": "code",
   "execution_count": 72,
   "id": "92ec2e60",
   "metadata": {},
   "outputs": [
    {
     "name": "stdout",
     "output_type": "stream",
     "text": [
      "['H', 'A', 'H', 'A', 'A', 'H', 'A', 'A', 'H', 'H', 'H', 'H', 'H', 'H', 'H', 'A', 'A', 'H', 'A', 'H', 'H', 'H', 'A', 'H', 'H', 'H', 'H', 'H', 'H', 'A', 'H', 'H', 'A', 'H', 'A', 'H', 'A', 'H', 'H', 'H', 'H', 'H', 'A', 'H', 'H', 'H', 'H', 'H', 'H', 'H', 'A', 'A', 'A', 'H', 'H', 'A', 'H', 'H', 'H', 'H', 'H', 'A', 'H', 'H', 'H', 'H', 'H', 'H', 'A', 'H', 'H', 'H', 'A', 'H', 'H', 'H', 'A', 'H', 'H', 'H', 'H', 'H', 'H', 'H', 'H', 'H', 'H', 'A', 'H', 'H', 'H', 'H', 'A', 'H', 'H', 'A', 'H', 'H', 'H', 'H', 'H', 'H', 'H', 'H', 'H', 'H', 'H', 'H', 'H', 'H', 'H', 'H', 'A', 'H', 'H', 'H', 'A', 'A', 'A', 'H', 'H', 'H', 'H', 'H', 'H', 'H', 'H', 'H', 'H', 'H', 'H', 'A', 'H', 'H', 'A', 'A', 'H', 'H', 'H', 'H', 'H', 'H', 'H', 'H', 'A', 'H', 'H', 'H', 'H', 'H', 'H', 'H', 'H', 'H', 'H', 'A', 'H', 'H', 'H', 'A', 'H', 'H', 'H', 'H', 'H', 'H', 'H', 'H', 'A', 'H', 'H', 'A', 'A', 'H', 'H', 'H', 'H', 'A', 'H', 'A', 'H', 'H', 'A', 'H', 'H', 'H', 'H', 'H', 'H', 'H', 'H', 'H', 'A', 'H', 'A', 'H', 'A', 'H', 'H', 'A', 'A', 'H', 'H', 'H', 'H', 'H', 'H', 'H', 'A', 'H', 'H', 'A', 'H', 'H', 'H', 'H', 'H', 'A', 'H', 'H', 'H', 'A', 'A', 'H', 'H', 'A', 'H', 'H', 'H', 'H', 'H', 'H', 'A', 'H', 'A', 'H', 'H', 'H', 'A', 'H', 'H', 'H', 'H', 'H', 'H', 'H', 'A', 'H', 'A', 'H', 'H', 'A', 'H', 'H', 'H', 'H', 'H', 'H', 'H', 'H', 'H', 'A', 'H', 'H', 'H', 'H', 'H', 'H', 'A', 'H', 'H', 'H', 'H', 'H', 'H', 'H', 'A', 'H', 'H', 'A', 'H', 'H', 'H', 'H', 'H', 'H', 'H', 'H', 'H', 'H', 'H', 'H', 'H', 'H', 'H', 'H', 'H', 'H', 'A', 'H', 'H', 'H', 'A', 'H', 'A', 'H', 'H', 'H', 'H', 'A', 'H', 'H', 'H', 'H', 'A', 'H', 'H', 'H', 'A', 'H', 'H', 'H', 'H', 'H', 'H', 'H', 'H', 'H', 'A', 'H', 'H', 'H', 'H', 'A', 'H', 'H', 'H', 'H', 'H', 'H', 'H', 'H', 'H', 'H', 'H', 'H', 'H', 'H', 'H', 'H', 'H', 'H', 'H', 'H', 'H', 'H', 'H', 'H', 'H', 'H', 'H', 'H', 'H', 'H', 'H', 'H', 'A', 'H', 'H', 'H', 'H', 'H', 'H', 'H', 'A', 'H', 'H', 'A', 'A', 'H', 'H', 'H', 'H', 'H', 'H', 'H', 'A', 'H', 'H', 'H', 'H', 'H', 'H', 'H', 'H', 'A', 'H', 'A', 'H', 'A', 'H', 'H', 'H', 'H', 'H', 'H', 'H', 'H', 'H', 'H', 'H', 'H', 'H', 'A', 'H', 'H', 'A', 'H', 'H', 'H', 'H', 'H', 'H', 'H', 'H', 'H', 'H', 'H', 'H', 'H', 'H', 'H', 'A', 'H', 'H', 'A', 'H', 'H', 'H', 'H', 'H', 'H', 'A', 'H', 'H', 'H', 'H', 'H', 'H', 'H', 'H', 'A', 'H', 'H', 'H', 'H', 'H', 'H', 'H', 'H', 'H', 'H', 'H', 'H', 'H', 'H', 'H', 'H', 'H', 'H', 'H', 'H', 'H', 'H', 'H', 'H', 'H', 'H', 'H', 'H', 'H', 'H', 'H', 'H', 'H', 'H', 'H', 'H', 'H', 'H', 'H', 'H', 'A', 'H', 'H', 'H', 'H', 'H', 'H', 'H']\n"
     ]
    },
    {
     "data": {
      "text/plain": [
       "(array([415.,   0.,   0.,   0.,   0.,   0.,   0.,   0.,   0.,  85.]),\n",
       " array([0. , 0.1, 0.2, 0.3, 0.4, 0.5, 0.6, 0.7, 0.8, 0.9, 1. ]),\n",
       " <BarContainer object of 10 artists>)"
      ]
     },
     "execution_count": 72,
     "metadata": {},
     "output_type": "execute_result"
    },
    {
     "data": {
      "image/png": "[encoded data removed]",
      "text/plain": [
       "<Figure size 432x288 with 1 Axes>"
      ]
     },
     "metadata": {
      "needs_background": "light"
     },
     "output_type": "display_data"
    }
   ],
   "source": [
    "win_count = []\n",
    "for _ in range(500):\n",
    "    game = [-1,-1,-1,\n",
    "             0,0,0,\n",
    "             1,1,1]\n",
    "    path = []\n",
    "    while True:\n",
    "        c = available_moves_H(game)\n",
    "        a = choice(range(len(c)))\n",
    "        game = update_move_H(game.copy(),c[a])\n",
    "        if check_win(game)==1:\n",
    "            win_count.append(\"H\")\n",
    "            for i in path:\n",
    "                for j in memory_A_moves:\n",
    "                    i[0]==j[0]\n",
    "                    j[1].append(i[1])\n",
    "            break\n",
    "        for k in memory_A_moves:\n",
    "            if k[0]==game.copy():\n",
    "                d = k[1]\n",
    "                break\n",
    "        e = choice(range(len(d)))\n",
    "        path.append([game.copy(),d[e]])\n",
    "        game = update_move_A(game.copy(),d[e])\n",
    "        if check_win(game)==1:\n",
    "            win_count.append(\"A\")\n",
    "            break\n",
    "print(win_count)\n",
    "plt.hist(win_count)"
   ]
  },
  {
   "cell_type": "code",
   "execution_count": 59,
   "id": "8a6c5384",
   "metadata": {},
   "outputs": [
    {
     "data": {
      "text/plain": [
       "[[[-1, -1, -1, 1, 0, 0, 0, 1, 1], '2->5']]"
      ]
     },
     "execution_count": 59,
     "metadata": {},
     "output_type": "execute_result"
    }
   ],
   "source": [
    " game = [-1,-1,-1,\n",
    "             0,0,0,\n",
    "             1,1,1]\n",
    "path = []\n",
    "while True:\n",
    "    c = available_moves_H(game)\n",
    "    a = choice(range(len(c)))\n",
    "    game = update_move_H(game.copy(),c[a])\n",
    "    if check_win(game)==1:\n",
    "        win_count.append(\"H\")\n",
    "        break\n",
    "    if game.copy() not in [t[0] for t in memory_A_moves]:\n",
    "        memory_A_moves.append([game.copy(),available_moves_A(game.copy())])\n",
    "    d = available_moves_A(game.copy())\n",
    "    e = choice(range(len(d)))\n",
    "    path.append([game.copy(),d[e]])\n",
    "    game = update_move_A(game.copy(),d[e])\n",
    "    if check_win(game)==1:\n",
    "        win_count.append(\"A\")\n",
    "        break\n",
    "path"
   ]
  },
  {
   "cell_type": "code",
   "execution_count": 21,
   "id": "f3cedcd2",
   "metadata": {},
   "outputs": [
    {
     "name": "stdout",
     "output_type": "stream",
     "text": [
      "['8->5', '7->4', '6->3']\n",
      "1\n",
      "[-1, -1, -1, 0, 1, 0, 1, 0, 1]\n"
     ]
    }
   ],
   "source": [
    "display_board(game)\n",
    "c = available_moves_H(board)\n",
    "a = choice(range(len(c)))\n",
    "f = update_move_H(game.copy(),c[a])\n",
    "print(c)\n",
    "print(a)\n",
    "print(f)"
   ]
  },
  {
   "cell_type": "code",
   "execution_count": null,
   "id": "204cd375",
   "metadata": {},
   "outputs": [],
   "source": [
    "win_count"
   ]
  },
  {
   "cell_type": "code",
   "execution_count": null,
   "id": "905ebbee",
   "metadata": {},
   "outputs": [],
   "source": [
    "memory_A_moves = []\n",
    "win_count = []\n",
    "for _ in range(10000):\n",
    "    board = [-1,-1,-1,0,0,0,1,1,1]\n",
    "    path_A = []\n",
    "    while True:\n",
    "        #display_board(board)\n",
    "        c = available_moves_H(board)\n",
    "        #a = int(input(f\"Choose 1 in {c}: \"))\n",
    "        a = choice(range(len(c)))#\n",
    "        board = update_move_H(board,c[a])\n",
    "        #display_board(board)\n",
    "        #memory_A.append(board.copy())#need to be corrected\n",
    "        if board.copy() not in [a[0] for a in memory_A_moves] :#need to be corrected\n",
    "            memory_A_moves.append([board.copy(),available_moves_A(board.copy())])#need to be corrected\n",
    "        if check_win(board)==1:\n",
    "            #print(\"Human is Won\")\n",
    "            for i in path_A:\n",
    "                for j in memory_A_moves:\n",
    "                    if i[0] == j[0]:\n",
    "                        if i[1] in j[1]:\n",
    "                            j[1].remove(i[1])\n",
    "            win_count.append(\"H\")\n",
    "            break\n",
    "        if board in [a[0] for a in memory_A_moves]:\n",
    "            for i in memory_A_moves:\n",
    "                if board == i[0] and len(i[1])!=0:\n",
    "                    c = i[1]\n",
    "                    a = choice(range(len(c)))\n",
    "                    break   \n",
    "        else:\n",
    "            c = available_moves_A(board.copy())\n",
    "            a = choice(range(len(c)))\n",
    "        path_A.append([board.copy(),c[a]])#need to correct\n",
    "        board = update_move_A(board.copy(),c[a])\n",
    "        #display_board(board)\n",
    "        if check_win(board)==1:\n",
    "            #print(\"AI is Won\")\n",
    "            win_count.append(\"A\")\n",
    "            break\n",
    "print(win_count)\n",
    "plt.hist(win_count)"
   ]
  },
  {
   "cell_type": "code",
   "execution_count": null,
   "id": "6bf98e0a",
   "metadata": {},
   "outputs": [],
   "source": [
    "a = [1,2,3,4]"
   ]
  },
  {
   "cell_type": "code",
   "execution_count": null,
   "id": "25812ebb",
   "metadata": {},
   "outputs": [],
   "source": [
    "c = a.copy()"
   ]
  },
  {
   "cell_type": "code",
   "execution_count": null,
   "id": "75635547",
   "metadata": {},
   "outputs": [],
   "source": [
    "c[0]=0\n",
    "c"
   ]
  },
  {
   "cell_type": "code",
   "execution_count": null,
   "id": "d3b78f2d",
   "metadata": {},
   "outputs": [],
   "source": [
    "a[0]= 3\n",
    "c"
   ]
  },
  {
   "cell_type": "code",
   "execution_count": null,
   "id": "f174e9bb",
   "metadata": {},
   "outputs": [],
   "source": [
    "win_count  = []\n",
    "for _ in range(20):\n",
    "    while True:\n",
    "        game = [-1,-1,-1,\n",
    "                  0,0,0,\n",
    "                  1,1,1]\n",
    "        display_board(game)\n",
    "        #1st move by Human\n",
    "        a = available_moves_H(game.copy())\n",
    "        b = int(input(f\"Choose one available_moves:{a}\"))\n",
    "        game = update_move_H(game.copy(),a[b])\n",
    "        display_board(game)\n",
    "        #2nd move by AI\n",
    "        for t in memory_A_2:\n",
    "            if t[0]== game.copy():\n",
    "                d = t[1]\n",
    "                e = choice(range(len(d)))\n",
    "                break\n",
    "        move_2 = [game.copy(),d[e]]\n",
    "        game = update_move_A(game.copy(),d[e])\n",
    "        display_board(game)\n",
    "        #3rd move by Human\n",
    "        f = available_moves_H(game.copy())\n",
    "        g = int(input(f\"Choose one available_moves:{f}\"))\n",
    "        game = update_move_H(game.copy(),f[g])\n",
    "        display_board(game)\n",
    "        if check_win(game)==1:\n",
    "            win_count.append(\"H\")\n",
    "            print(\"Human Won\")\n",
    "            for x in memory_A_2:\n",
    "                if x[0]==move_2[0]:\n",
    "                    x[1].remove(move_2[1])   \n",
    "                    break\n",
    "            break\n",
    "        #4th move by AI\n",
    "        for t in memory_A_2:\n",
    "            if t[0]== game.copy() :\n",
    "                if len(t[1])!=0:\n",
    "                    h = t[1]\n",
    "                    i = choice(range(len(h)))\n",
    "                    break\n",
    "                else:\n",
    "                    for x in memory_A_2:\n",
    "                        if x[0]==move_2[0]:\n",
    "                            x[1].remove(move_2[1])   \n",
    "                            break\n",
    "                    break\n",
    "        break\n",
    "        move_4 = [game.copy(),h[i]]\n",
    "        game = update_move_A(game.copy(),h[i])\n",
    "        display_board(game)\n",
    "        if check_win(game)==1:\n",
    "            win_count.append(\"A\")\n",
    "            print(\"AI won\")\n",
    "            break\n",
    "        #5th move by Human\n",
    "        j = available_moves_H(game.copy())\n",
    "        k = int(input(f\"Choose one available_moves:{j}\"))\n",
    "        game = update_move_H(game.copy(),j[k])\n",
    "        display_board(game)\n",
    "        if check_win(game)==1:\n",
    "            win_count.append(\"H\")\n",
    "            print(\"Human Won\")\n",
    "            for y in memory_A_4:\n",
    "                if y[0]==move_4[0]:\n",
    "                    y[1].remove(move_4[1])\n",
    "                    break\n",
    "            break\n",
    "        #6th move by AI\n",
    "        for t in memory_A_2:\n",
    "            if t[0]== game.copy():\n",
    "                l = t[1]\n",
    "                m = choice(range(len(l)))\n",
    "                break\n",
    "        move_6 = [game.copy(),l[m]]\n",
    "        game = update_move_A(game.copy(),l[m])\n",
    "        display_board(game)\n",
    "        if check_win(game)==1:\n",
    "            win_count.append(\"A\")\n",
    "            print(\"AI WON\")\n",
    "            break\n",
    "        #7th move by Human\n",
    "        n = available_moves_H(game.copy())\n",
    "        o = int(input(f\"Choose one available_moves:{n}\"))\n",
    "        game = update_move_H(game.copy(),n[o])\n",
    "        display_board(game)\n",
    "        if check_win(game)==1:\n",
    "            win_count.append(\"H\")\n",
    "            print(\"Human Won\")\n",
    "            for z in memory_A_6:\n",
    "                if z[0]==move_6[0]:\n",
    "                    z[1].remove(move_6[1])\n",
    "                    break\n",
    "            break"
   ]
  },
  {
   "cell_type": "code",
   "execution_count": 65,
   "id": "62b2ecab",
   "metadata": {},
   "outputs": [
    {
     "name": "stdout",
     "output_type": "stream",
     "text": [
      "[]\n"
     ]
    },
    {
     "data": {
      "text/plain": [
       "(array([0., 0., 0., 0., 0., 0., 0., 0., 0., 0.]),\n",
       " array([0. , 0.1, 0.2, 0.3, 0.4, 0.5, 0.6, 0.7, 0.8, 0.9, 1. ]),\n",
       " <BarContainer object of 10 artists>)"
      ]
     },
     "execution_count": 65,
     "metadata": {},
     "output_type": "execute_result"
    },
    {
     "data": {
      "image/png": "[encoded data removed]",
      "text/plain": [
       "<Figure size 432x288 with 1 Axes>"
      ]
     },
     "metadata": {
      "needs_background": "light"
     },
     "output_type": "display_data"
    }
   ],
   "source": [
    "#using AI\n",
    "win_count  = []\n",
    "for _ in range(500):\n",
    "    def func():\n",
    "        while True:\n",
    "            game = [-1,-1,-1,\n",
    "                      0,0,0,\n",
    "                      1,1,1]\n",
    "            display_board(game)\n",
    "            #1st move by Human\n",
    "            a = available_moves_H(game.copy())\n",
    "            #b = int(input(f\"Choose one available_moves:{a}\"))\n",
    "            b = choice(range(len(a)))\n",
    "            game = update_move_H(game.copy(),a[b])\n",
    "            display_board(game)\n",
    "            #2nd move by AI\n",
    "            for t in memory_A_2:\n",
    "                if t[0]== game.copy():\n",
    "                    d = t[1]\n",
    "                    e = choice(range(len(d)))\n",
    "                    break\n",
    "            move_2 = [game.copy(),d[e]]\n",
    "            game = update_move_A(game.copy(),d[e])\n",
    "            display_board(game)\n",
    "            #3rd move by Human\n",
    "            f = available_moves_H(game.copy())\n",
    "            #g = int(input(f\"Choose one available_moves:{f}\"))\n",
    "            g = choice(range(len(f)))\n",
    "            game = update_move_H(game.copy(),f[g])\n",
    "            display_board(game)\n",
    "            if check_win(game)==1:\n",
    "                win_count.append(\"H\")\n",
    "                print(\"Human Won\")\n",
    "                for x in memory_A_2:\n",
    "                    if x[0]==move_2[0]:\n",
    "                        x[1].remove(move_2[1])   \n",
    "                        break\n",
    "                break\n",
    "            #4th move by AI\n",
    "            for t in memory_A_2:\n",
    "                if t[0]== game.copy() :\n",
    "                    if len(t[1])!=0:\n",
    "                        h = t[1]\n",
    "                        i = choice(range(len(h)))\n",
    "                        break\n",
    "                    else:\n",
    "                        for x in memory_A_2:\n",
    "                            if x[0]==move_2[0]:\n",
    "                                x[1].remove(move_2[1])   \n",
    "                                break\n",
    "                        return\n",
    "            move_4 = [game.copy(),h[i]]\n",
    "            game = update_move_A(game.copy(),h[i])\n",
    "            display_board(game)\n",
    "            if check_win(game)==1:\n",
    "                win_count.append(\"A\")\n",
    "                print(\"AI won\")\n",
    "                break\n",
    "            #5th move by Human\n",
    "            j = available_moves_H(game.copy())\n",
    "            #k = int(input(f\"Choose one available_moves:{j}\"))\n",
    "            k = choice(range(len(j)))\n",
    "            game = update_move_H(game.copy(),j[k])\n",
    "            display_board(game)\n",
    "            if check_win(game)==1:\n",
    "                win_count.append(\"H\")\n",
    "                print(\"Human Won\")\n",
    "                for y in memory_A_4:\n",
    "                    if y[0]==move_4[0]:\n",
    "                        y[1].remove(move_4[1])\n",
    "                        break\n",
    "                break\n",
    "            #6th move by AI\n",
    "            for t in memory_A_2:\n",
    "                if t[0]== game.copy():\n",
    "                    l = t[1]\n",
    "                    m = choice(range(len(l)))\n",
    "                    break\n",
    "            move_6 = [game.copy(),l[m]]\n",
    "            game = update_move_A(game.copy(),l[m])\n",
    "            display_board(game)\n",
    "            if check_win(game)==1:\n",
    "                win_count.append(\"A\")\n",
    "                print(\"AI WON\")\n",
    "                break\n",
    "            #7th move by Human\n",
    "            n = available_moves_H(game.copy())\n",
    "            o = int(input(f\"Choose one available_moves:{n}\"))\n",
    "            game = update_move_H(game.copy(),n[o])\n",
    "            display_board(game)\n",
    "            if check_win(game)==1:\n",
    "                win_count.append(\"H\")\n",
    "                print(\"Human Won\")\n",
    "                for z in memory_A_6:\n",
    "                    if z[0]==move_6[0]:\n",
    "                        z[1].remove(move_6[1])\n",
    "                        break\n",
    "                break\n",
    "print(win_count)\n",
    "plt.hist(win_count)"
   ]
  },
  {
   "cell_type": "code",
   "execution_count": 64,
   "id": "7daf517d",
   "metadata": {},
   "outputs": [
    {
     "data": {
      "text/plain": [
       "[]"
      ]
     },
     "execution_count": 64,
     "metadata": {},
     "output_type": "execute_result"
    }
   ],
   "source": [
    "win_count"
   ]
  },
  {
   "cell_type": "code",
   "execution_count": 2,
   "id": "d50a1684",
   "metadata": {},
   "outputs": [
    {
     "name": "stdout",
     "output_type": "stream",
     "text": [
      "0\n",
      "Try again\n",
      "3\n"
     ]
    }
   ],
   "source": [
    "while True:\n",
    "    a = int(input())\n",
    "    if a in [1,2,3]:\n",
    "        break\n",
    "    else:\n",
    "        print(\"Try again\")"
   ]
  },
  {
   "cell_type": "code",
   "execution_count": null,
   "id": "b3483dc4",
   "metadata": {},
   "outputs": [],
   "source": []
  }
 ],
 "metadata": {
  "kernelspec": {
   "display_name": "Python 3",
   "language": "python",
   "name": "python3"
  },
  "language_info": {
   "codemirror_mode": {
    "name": "ipython",
    "version": 3
   },
   "file_extension": ".py",
   "mimetype": "text/x-python",
   "name": "python",
   "nbconvert_exporter": "python",
   "pygments_lexer": "ipython3",
   "version": "3.8.8"
  }
 },
 "nbformat": 4,
 "nbformat_minor": 5
}
